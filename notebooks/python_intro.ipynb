{
 "cells": [
  {
   "cell_type": "markdown",
   "metadata": {
    "slideshow": {
     "slide_type": "slide"
    }
   },
   "source": [
    "### Introduction\n",
    "\n",
    "This is part 1 of Recitation 0 for the Fall 2019 iteration of the course 11-785: Intro to Deep Learning. The recitation is split into 3 parts, with part 1 introducing relevant python skills and libraries, part 2 going more in depth with vector operations using numpy, and part 3 going over AWS, SageMaker, IPython, and Jupyter Notebook. "
   ]
  },
  {
   "cell_type": "markdown",
   "metadata": {
    "slideshow": {
     "slide_type": "fragment"
    }
   },
   "source": [
    "### Python \n",
    "\n",
    "All information about python, from downloading to documentation, can be found here: https://www.python.org. We recommend that you use python 3 for the homeworks in this course. \n"
   ]
  },
  {
   "cell_type": "markdown",
   "metadata": {
    "slideshow": {
     "slide_type": "slide"
    }
   },
   "source": [
    "### Modules\n",
    "\n",
    "Install external modules using the pip package manager(https://pypi.org/project/pip/). Modules we'll be using in the course include numpy and torch (Pytorch)."
   ]
  },
  {
   "cell_type": "markdown",
   "metadata": {
    "slideshow": {
     "slide_type": "slide"
    }
   },
   "source": [
    "#### Importing Modules"
   ]
  },
  {
   "cell_type": "code",
   "execution_count": 1,
   "metadata": {
    "scrolled": true,
    "slideshow": {
     "slide_type": "fragment"
    }
   },
   "outputs": [],
   "source": [
    "import numpy\n",
    "a = numpy.array([1,2,3])\n",
    "\n",
    "import numpy as np\n",
    "a = np.array([1,2,3])\n",
    "\n",
    "from math import ceil\n",
    "\n",
    "from math import * "
   ]
  },
  {
   "cell_type": "markdown",
   "metadata": {
    "slideshow": {
     "slide_type": "slide"
    }
   },
   "source": [
    "### File Formats and Loading Data "
   ]
  },
  {
   "cell_type": "markdown",
   "metadata": {
    "slideshow": {
     "slide_type": "notes"
    }
   },
   "source": [
    " - .txt: plain text file\n",
    " - .pkl: python objects\n",
    " - .csv: tabular data - fields separated by commas\n",
    " - .npz: zipped archive of npy files\n",
    " - .npy: numpy arrays (saved using numpy library)"
   ]
  },
  {
   "cell_type": "code",
   "execution_count": 2,
   "metadata": {
    "scrolled": true,
    "slideshow": {
     "slide_type": "fragment"
    }
   },
   "outputs": [
    {
     "name": "stdout",
     "output_type": "stream",
     "text": [
      "['This is the first line of text,\\r\\n', 'Followed by the second']\n"
     ]
    }
   ],
   "source": [
    "f = open(\"../data/someRandomFile.txt\", \"r\")\n",
    "\n",
    "print(f.readlines())\n",
    "\n",
    "f.close()"
   ]
  },
  {
   "cell_type": "code",
   "execution_count": 4,
   "metadata": {
    "scrolled": true,
    "slideshow": {
     "slide_type": "fragment"
    }
   },
   "outputs": [
    {
     "name": "stdout",
     "output_type": "stream",
     "text": [
      "['This is the first line of text,\\r\\n', 'Followed by the second']\n"
     ]
    }
   ],
   "source": [
    "with open(\"../data/someRandomFile.txt\", \"r\") as f:\n",
    "    print(f.readlines())"
   ]
  },
  {
   "cell_type": "markdown",
   "metadata": {
    "slideshow": {
     "slide_type": "slide"
    }
   },
   "source": [
    "More about file i/o functions: \n",
    "More about file access modes: https://stackoverflow.com/questions/16208206/confused-by-python-file-mode-w "
   ]
  },
  {
   "cell_type": "code",
   "execution_count": 5,
   "metadata": {
    "scrolled": true,
    "slideshow": {
     "slide_type": "slide"
    }
   },
   "outputs": [
    {
     "ename": "IOError",
     "evalue": "[Errno 2] No such file or directory: 'store.pkl'",
     "output_type": "error",
     "traceback": [
      "\u001b[0;31m---------------------------------------------------------------------------\u001b[0m",
      "\u001b[0;31mIOError\u001b[0m                                   Traceback (most recent call last)",
      "\u001b[0;32m<ipython-input-5-8c699d70db3d>\u001b[0m in \u001b[0;36m<module>\u001b[0;34m()\u001b[0m\n\u001b[1;32m      5\u001b[0m \u001b[0mpickle\u001b[0m\u001b[0;34m.\u001b[0m\u001b[0mdump\u001b[0m\u001b[0;34m(\u001b[0m\u001b[0mmydict\u001b[0m\u001b[0;34m,\u001b[0m \u001b[0mopen\u001b[0m\u001b[0;34m(\u001b[0m\u001b[0;34m\"../data/store.pkl\"\u001b[0m\u001b[0;34m,\u001b[0m \u001b[0;34m\"wb\"\u001b[0m\u001b[0;34m)\u001b[0m\u001b[0;34m)\u001b[0m\u001b[0;34m\u001b[0m\u001b[0m\n\u001b[1;32m      6\u001b[0m \u001b[0;34m\u001b[0m\u001b[0m\n\u001b[0;32m----> 7\u001b[0;31m \u001b[0mloaded\u001b[0m \u001b[0;34m=\u001b[0m \u001b[0mpickle\u001b[0m\u001b[0;34m.\u001b[0m\u001b[0mload\u001b[0m\u001b[0;34m(\u001b[0m\u001b[0mopen\u001b[0m\u001b[0;34m(\u001b[0m\u001b[0;34m\"store.pkl\"\u001b[0m\u001b[0;34m,\u001b[0m \u001b[0;34m\"rb\"\u001b[0m\u001b[0;34m)\u001b[0m\u001b[0;34m)\u001b[0m\u001b[0;34m\u001b[0m\u001b[0m\n\u001b[0m\u001b[1;32m      8\u001b[0m \u001b[0;32mprint\u001b[0m\u001b[0;34m(\u001b[0m\u001b[0mloaded\u001b[0m\u001b[0;34m)\u001b[0m\u001b[0;34m\u001b[0m\u001b[0m\n",
      "\u001b[0;31mIOError\u001b[0m: [Errno 2] No such file or directory: 'store.pkl'"
     ]
    }
   ],
   "source": [
    "import pickle\n",
    "\n",
    "mydict = {\"student1\": \"Alice\", \"Student2\": \"Bob\", \"Student3\": \"Rachel\"}\n",
    "\n",
    "pickle.dump(mydict, open(\"../data/store.pkl\", \"wb\"))\n",
    "\n",
    "loaded = pickle.load(open(\"store.pkl\", \"rb\"))\n",
    "print(loaded)"
   ]
  },
  {
   "cell_type": "code",
   "execution_count": 16,
   "metadata": {
    "scrolled": true,
    "slideshow": {
     "slide_type": "slide"
    }
   },
   "outputs": [
    {
     "name": "stdout",
     "output_type": "stream",
     "text": [
      "['cdatetime', 'address', 'district', 'beat', 'grid', 'crimedescr', 'ucr_ncic_code', 'latitude', 'longitude']\n",
      "['1/1/06 0:00', '3108 OCCIDENTAL DR', '3', '3C        ', '1115', '10851(A)VC TAKE VEH W/O OWNER', '2404', '38.55042047', '-121.3914158']\n",
      "['1/1/06 0:00', '2082 EXPEDITION WAY', '5', '5A        ', '1512', '459 PC  BURGLARY RESIDENCE', '2204', '38.47350069', '-121.4901858']\n",
      "['1/1/06 0:00', '4 PALEN CT', '2', '2A        ', '212', '10851(A)VC TAKE VEH W/O OWNER', '2404', '38.65784584', '-121.4621009']\n",
      "['1/1/06 0:00', '22 BECKFORD CT', '6', '6C        ', '1443', '476 PC PASS FICTICIOUS CHECK', '2501', '38.50677377', '-121.4269508']\n",
      "['1/1/06 0:00', '3421 AUBURN BLVD', '2', '2A        ', '508', '459 PC  BURGLARY-UNSPECIFIED', '2299', '38.6374478', '-121.3846125']\n",
      "['1/1/06 0:00', '5301 BONNIEMAE WAY', '6', '6B        ', '1084', '530.5 PC USE PERSONAL ID INFO', '2604', '38.52697863', '-121.4513383']\n",
      "['1/1/06 0:00', '2217 16TH AVE', '4', '4A        ', '957', '459 PC  BURGLARY VEHICLE', '2299', '38.537173', '-121.4875774']\n",
      "['1/1/06 0:00', '3547 P ST', '3', '3C        ', '853', '484 PC   PETTY THEFT/INSIDE', '2308', '38.56433456', '-121.4618826']\n",
      "['1/1/06 0:00', '3421 AUBURN BLVD', '2', '2A        ', '508', '459 PC  BURGLARY BUSINESS', '2203', '38.6374478', '-121.3846125']\n"
     ]
    }
   ],
   "source": [
    "import csv\n",
    "\n",
    "with open (\"SacramentocrimeJanuary2006.csv\", \"r\") as f:\n",
    "    reader = csv.reader(f, delimiter=\",\")\n",
    "    \n",
    "    i = 0 \n",
    "    \n",
    "    for row in reader:\n",
    "        if (i == 10):\n",
    "            break\n",
    "        print(row)\n",
    "        i+=1        "
   ]
  },
  {
   "cell_type": "markdown",
   "metadata": {
    "slideshow": {
     "slide_type": "slide"
    }
   },
   "source": [
    "### Storing Data\n",
    "\n",
    " - lists: generic container - allow for numeric indexing\n",
    " - tuples: immutable lists\n",
    " - dictionaries: keys act as indices - keys must be unique\n",
    " - sets: group of unique elements"
   ]
  },
  {
   "cell_type": "code",
   "execution_count": 6,
   "metadata": {
    "scrolled": true,
    "slideshow": {
     "slide_type": "fragment"
    }
   },
   "outputs": [
    {
     "name": "stdout",
     "output_type": "stream",
     "text": [
      "89\n",
      "7\n",
      "[\"I'm new\", 3, 4, 89, 23, 43, 90]\n"
     ]
    },
    {
     "ename": "IndexError",
     "evalue": "list index out of range",
     "output_type": "error",
     "traceback": [
      "\u001b[0;31m---------------------------------------------------------------------------\u001b[0m",
      "\u001b[0;31mIndexError\u001b[0m                                Traceback (most recent call last)",
      "\u001b[0;32m<ipython-input-6-fc088aa60c0f>\u001b[0m in \u001b[0;36m<module>\u001b[0;34m()\u001b[0m\n\u001b[1;32m      8\u001b[0m \u001b[0;32mprint\u001b[0m\u001b[0;34m(\u001b[0m\u001b[0msame_type_list\u001b[0m\u001b[0;34m)\u001b[0m\u001b[0;34m\u001b[0m\u001b[0m\n\u001b[1;32m      9\u001b[0m \u001b[0;34m\u001b[0m\u001b[0m\n\u001b[0;32m---> 10\u001b[0;31m \u001b[0;32mprint\u001b[0m\u001b[0;34m(\u001b[0m\u001b[0msame_type_list\u001b[0m\u001b[0;34m[\u001b[0m\u001b[0;36m8\u001b[0m\u001b[0;34m]\u001b[0m\u001b[0;34m)\u001b[0m\u001b[0;34m\u001b[0m\u001b[0m\n\u001b[0m",
      "\u001b[0;31mIndexError\u001b[0m: list index out of range"
     ]
    }
   ],
   "source": [
    "same_type_list = [1, 3, 4, 89, 23, 43, 90]\n",
    "diff_type_list = [1, 3, \"hello\", 4.9, \"c\"]\n",
    "\n",
    "print(same_type_list[3])\n",
    "print(len(same_type_list))\n",
    "\n",
    "same_type_list[0] = \"I'm new\"\n",
    "print(same_type_list)\n",
    "\n",
    "# This gives index out of range\n",
    "print(same_type_list[8])"
   ]
  },
  {
   "cell_type": "code",
   "execution_count": 7,
   "metadata": {
    "scrolled": true,
    "slideshow": {
     "slide_type": "fragment"
    }
   },
   "outputs": [
    {
     "name": "stdout",
     "output_type": "stream",
     "text": [
      "[\"I'm new\", 3, 4, 89, 23, 43, 90, 1, 3, 'hello', 4.9, 'c']\n"
     ]
    }
   ],
   "source": [
    "new_list = same_type_list + diff_type_list\n",
    "print(new_list)"
   ]
  },
  {
   "cell_type": "code",
   "execution_count": 8,
   "metadata": {
    "scrolled": true,
    "slideshow": {
     "slide_type": "slide"
    }
   },
   "outputs": [
    {
     "name": "stdout",
     "output_type": "stream",
     "text": [
      "['hi', 'hello', 'hi', 'hello']\n"
     ]
    }
   ],
   "source": [
    "new_list_2 = [\"hi\", \"hello\"] * 2\n",
    "print(new_list_2)"
   ]
  },
  {
   "cell_type": "code",
   "execution_count": 10,
   "metadata": {
    "scrolled": true,
    "slideshow": {
     "slide_type": "fragment"
    }
   },
   "outputs": [
    {
     "name": "stdout",
     "output_type": "stream",
     "text": [
      "foo\n",
      "10\n"
     ]
    },
    {
     "ename": "TypeError",
     "evalue": "'tuple' object does not support item assignment",
     "output_type": "error",
     "traceback": [
      "\u001b[0;31m---------------------------------------------------------------------------\u001b[0m",
      "\u001b[0;31mTypeError\u001b[0m                                 Traceback (most recent call last)",
      "\u001b[0;32m<ipython-input-10-6d9def520c2a>\u001b[0m in \u001b[0;36m<module>\u001b[0;34m()\u001b[0m\n\u001b[1;32m      6\u001b[0m \u001b[0;34m\u001b[0m\u001b[0m\n\u001b[1;32m      7\u001b[0m \u001b[0;31m# Tuples are immutable\u001b[0m\u001b[0;34m\u001b[0m\u001b[0;34m\u001b[0m\u001b[0m\n\u001b[0;32m----> 8\u001b[0;31m \u001b[0msame_type_tuple\u001b[0m\u001b[0;34m[\u001b[0m\u001b[0;36m0\u001b[0m\u001b[0;34m]\u001b[0m \u001b[0;34m=\u001b[0m \u001b[0;36m3\u001b[0m\u001b[0;34m\u001b[0m\u001b[0m\n\u001b[0m",
      "\u001b[0;31mTypeError\u001b[0m: 'tuple' object does not support item assignment"
     ]
    }
   ],
   "source": [
    "same_type_tuple = (1, 10, 7)\n",
    "diff_type_tuple = (1, 2, \"foo\") \n",
    "\n",
    "print(diff_type_tuple[2])\n",
    "print(same_type_tuple[1])\n",
    "\n",
    "# Tuples are immutable\n",
    "same_type_tuple[0] = 3"
   ]
  },
  {
   "cell_type": "code",
   "execution_count": 11,
   "metadata": {
    "scrolled": true,
    "slideshow": {
     "slide_type": "slide"
    }
   },
   "outputs": [
    {
     "name": "stdout",
     "output_type": "stream",
     "text": [
      "Alice\n",
      "student does not exist\n"
     ]
    }
   ],
   "source": [
    "my_dict = {\"student1\": \"Alice\", \"student2\": \"Bob\", \"student3\": \"Rachel\"}\n",
    "\n",
    "print(my_dict[\"student1\"])\n",
    "# print(my_dict[\"student4\"])\n",
    "print(my_dict.get(\"student4\", \"student does not exist\"))"
   ]
  },
  {
   "cell_type": "code",
   "execution_count": 12,
   "metadata": {
    "scrolled": true,
    "slideshow": {
     "slide_type": "fragment"
    }
   },
   "outputs": [
    {
     "name": "stdout",
     "output_type": "stream",
     "text": [
      "{'student3': 'Rachel', 'student2': 'Bob', 'student1': 'Billy'}\n"
     ]
    }
   ],
   "source": [
    "my_dict[\"student1\"] = \"Billy\"\n",
    "print(my_dict)"
   ]
  },
  {
   "cell_type": "code",
   "execution_count": 13,
   "metadata": {
    "scrolled": true,
    "slideshow": {
     "slide_type": "slide"
    }
   },
   "outputs": [
    {
     "name": "stdout",
     "output_type": "stream",
     "text": [
      "set(['obj1', 'obj3', 'obj2'])\n"
     ]
    }
   ],
   "source": [
    "my_set = {\"obj1\", \"obj2\", \"obj3\"}\n",
    "print(my_set)"
   ]
  },
  {
   "cell_type": "code",
   "execution_count": 14,
   "metadata": {
    "scrolled": true,
    "slideshow": {
     "slide_type": "fragment"
    }
   },
   "outputs": [
    {
     "ename": "TypeError",
     "evalue": "'set' object does not support indexing",
     "output_type": "error",
     "traceback": [
      "\u001b[0;31m---------------------------------------------------------------------------\u001b[0m",
      "\u001b[0;31mTypeError\u001b[0m                                 Traceback (most recent call last)",
      "\u001b[0;32m<ipython-input-14-214a2ec4dead>\u001b[0m in \u001b[0;36m<module>\u001b[0;34m()\u001b[0m\n\u001b[0;32m----> 1\u001b[0;31m \u001b[0;32mprint\u001b[0m\u001b[0;34m(\u001b[0m\u001b[0mmy_set\u001b[0m\u001b[0;34m[\u001b[0m\u001b[0;36m1\u001b[0m\u001b[0;34m]\u001b[0m\u001b[0;34m)\u001b[0m\u001b[0;34m\u001b[0m\u001b[0m\n\u001b[0m",
      "\u001b[0;31mTypeError\u001b[0m: 'set' object does not support indexing"
     ]
    }
   ],
   "source": [
    "print(my_set[1])"
   ]
  },
  {
   "cell_type": "code",
   "execution_count": 15,
   "metadata": {
    "scrolled": true,
    "slideshow": {
     "slide_type": "slide"
    }
   },
   "outputs": [
    {
     "name": "stdout",
     "output_type": "stream",
     "text": [
      "10\n",
      "1\n",
      "[1, 7, 10]\n"
     ]
    }
   ],
   "source": [
    "# some more list/tuple functions\n",
    "\n",
    "print(max(same_type_tuple))\n",
    "print(min(same_type_tuple))\n",
    "print(sorted(same_type_tuple))"
   ]
  },
  {
   "cell_type": "markdown",
   "metadata": {
    "slideshow": {
     "slide_type": "slide"
    }
   },
   "source": [
    "### Filtering Lists\n",
    "\n",
    " - slicing and dicing\n",
    " - list comprehensions"
   ]
  },
  {
   "cell_type": "code",
   "execution_count": 16,
   "metadata": {
    "scrolled": true,
    "slideshow": {
     "slide_type": "fragment"
    }
   },
   "outputs": [
    {
     "name": "stdout",
     "output_type": "stream",
     "text": [
      "[9, 76, 80, 21, 53]\n",
      "[2, 5, 2]\n",
      "[45, 9, 80]\n"
     ]
    }
   ],
   "source": [
    "# slicing & dicing\n",
    "# general format: sliced_list = [start_idx : end_idx+1 : step]\n",
    "\n",
    "some_list = [2, 5, 2, 45, 7, 9, 76, 80, 21, 53]\n",
    "print(some_list[5:])\n",
    "print(some_list[:3])\n",
    "print(some_list[3:9:2])"
   ]
  },
  {
   "cell_type": "markdown",
   "metadata": {
    "slideshow": {
     "slide_type": "slide"
    }
   },
   "source": [
    "#### Slicing with 2D and 3D arrays\n",
    "\n",
    "3D arrays are indexed across the 3 dimensions as follows:\n",
    "\n",
    "![alt text](../img/3d_array.png)\n",
    "\n",
    "Where if you consider your 3D array to be a stack of matrices, i selects the matrix, j selects the row in that matrix and k selects the column in that matrix."
   ]
  },
  {
   "cell_type": "code",
   "execution_count": 17,
   "metadata": {
    "slideshow": {
     "slide_type": "slide"
    }
   },
   "outputs": [],
   "source": [
    "# slicing 3D array examples:\n",
    "\n",
    "three_d_array = np.array([[[10, 11, 12], [13, 14, 15], [16, 17, 18]],\n",
    "               [[20, 21, 22], [23, 24, 25], [26, 27, 28]],\n",
    "               [[30, 31, 32], [33, 34, 35], [36, 37, 38]]])\n",
    "\n",
    "\n"
   ]
  },
  {
   "cell_type": "code",
   "execution_count": 18,
   "metadata": {
    "slideshow": {
     "slide_type": "fragment"
    }
   },
   "outputs": [
    {
     "name": "stdout",
     "output_type": "stream",
     "text": [
      "[16 17 18]\n"
     ]
    }
   ],
   "source": [
    "# ------------ selecting a row ------------\n",
    "# you want to specify the matrix, then the row\n",
    "\n",
    "print(three_d_array[0,2]) # matrix 0, row 2"
   ]
  },
  {
   "cell_type": "code",
   "execution_count": 19,
   "metadata": {
    "slideshow": {
     "slide_type": "fragment"
    }
   },
   "outputs": [
    {
     "name": "stdout",
     "output_type": "stream",
     "text": [
      "[21 24 27]\n"
     ]
    }
   ],
   "source": [
    "# ------------ selecting a column ------------\n",
    "# you want to specify the matrix, ignore the row, and then specify the column\n",
    "\n",
    "print(three_d_array[1, :, 1]) # matrix 1, column 1"
   ]
  },
  {
   "cell_type": "code",
   "execution_count": 20,
   "metadata": {
    "slideshow": {
     "slide_type": "slide"
    }
   },
   "outputs": [
    {
     "name": "stdout",
     "output_type": "stream",
     "text": [
      "[[30 31 32]\n",
      " [33 34 35]\n",
      " [36 37 38]]\n"
     ]
    }
   ],
   "source": [
    "# ------------ selecting a matrix ------------\n",
    "\n",
    "print(three_d_array[2]) # matrix 2"
   ]
  },
  {
   "cell_type": "code",
   "execution_count": 21,
   "metadata": {
    "slideshow": {
     "slide_type": "fragment"
    }
   },
   "outputs": [
    {
     "name": "stdout",
     "output_type": "stream",
     "text": [
      "[15 25 35]\n"
     ]
    }
   ],
   "source": [
    "# ------------ creating a row across matrices ------------\n",
    "print(three_d_array[:, 1, 2]) # for every matrix, row 1, column 2 "
   ]
  },
  {
   "cell_type": "code",
   "execution_count": 22,
   "metadata": {
    "slideshow": {
     "slide_type": "slide"
    }
   },
   "outputs": [
    {
     "name": "stdout",
     "output_type": "stream",
     "text": [
      "[[13 14 15]\n",
      " [23 24 25]\n",
      " [33 34 35]]\n"
     ]
    }
   ],
   "source": [
    "# ------------ creating a matrix from rows ------------\n",
    "print(three_d_array[:, 1]) # for every matrix, row 1"
   ]
  },
  {
   "cell_type": "code",
   "execution_count": 23,
   "metadata": {
    "slideshow": {
     "slide_type": "slide"
    }
   },
   "outputs": [
    {
     "name": "stdout",
     "output_type": "stream",
     "text": [
      "[[11 14 17]\n",
      " [21 24 27]\n",
      " [31 34 37]]\n"
     ]
    }
   ],
   "source": [
    "# ------------ creating a matrix from columns ------------\n",
    "print(three_d_array[:, :, 1]) # for every matrix, for every row, column 1"
   ]
  },
  {
   "cell_type": "markdown",
   "metadata": {
    "slideshow": {
     "slide_type": "slide"
    }
   },
   "source": [
    "You can also slice within rows, columns and matrices in a 3D array, the same way you would in 1D arrays. "
   ]
  },
  {
   "cell_type": "code",
   "execution_count": 24,
   "metadata": {
    "scrolled": true,
    "slideshow": {
     "slide_type": "fragment"
    }
   },
   "outputs": [
    {
     "name": "stdout",
     "output_type": "stream",
     "text": [
      "[3, 4, 89, 23, 43, 90]\n"
     ]
    }
   ],
   "source": [
    "# list comprehensions\n",
    "# general format: new_list = [expression for_loop_one_or_more condtions]\n",
    "\n",
    "res = [num for num in same_type_list if isinstance(num, int) and num>0]\n",
    "print(res)\n"
   ]
  },
  {
   "cell_type": "code",
   "execution_count": 25,
   "metadata": {
    "scrolled": true,
    "slideshow": {
     "slide_type": "slide"
    }
   },
   "outputs": [
    {
     "name": "stdout",
     "output_type": "stream",
     "text": [
      "The slowest run took 36.39 times longer than the fastest. This could mean that an intermediate result is being cached.\n",
      "100000 loops, best of 3: 15.4 µs per loop\n"
     ]
    }
   ],
   "source": [
    "%%timeit \n",
    "\n",
    "res2 = []\n",
    "res2 = [i for i in range(500)]"
   ]
  },
  {
   "cell_type": "code",
   "execution_count": 26,
   "metadata": {
    "scrolled": true,
    "slideshow": {
     "slide_type": "fragment"
    }
   },
   "outputs": [
    {
     "name": "stdout",
     "output_type": "stream",
     "text": [
      "10000 loops, best of 3: 34.7 µs per loop\n"
     ]
    }
   ],
   "source": [
    "%%timeit\n",
    "\n",
    "res3 = []\n",
    "for i in range(500):\n",
    "    res3.append(i)"
   ]
  },
  {
   "cell_type": "markdown",
   "metadata": {
    "slideshow": {
     "slide_type": "slide"
    }
   },
   "source": [
    "### Classes\n",
    "\n",
    "You'll use classes extensively in the homeworks in this course. You will need classes for defining your models as well as your datasets. We'll consider an example of implementing the dataset class here. "
   ]
  },
  {
   "cell_type": "code",
   "execution_count": 28,
   "metadata": {
    "scrolled": true,
    "slideshow": {
     "slide_type": "fragment"
    }
   },
   "outputs": [],
   "source": [
    "from torch.utils.data import Dataset\n",
    "\n",
    "class MyDataset(Dataset):\n",
    "    def __init__(self, x, y):\n",
    "        self.x = x\n",
    "        self.y = y\n",
    "        \n",
    "    def __getitem__(self, index):    \n",
    "        return (self.x[index], self.y[index])\n",
    "    \n",
    "    def __len__(self):\n",
    "        return len(self.x)   \n",
    "        "
   ]
  },
  {
   "cell_type": "markdown",
   "metadata": {
    "slideshow": {
     "slide_type": "slide"
    }
   },
   "source": [
    "### Debugging - pdb"
   ]
  },
  {
   "cell_type": "code",
   "execution_count": null,
   "metadata": {
    "scrolled": true,
    "slideshow": {
     "slide_type": "fragment"
    }
   },
   "outputs": [
    {
     "name": "stdout",
     "output_type": "stream",
     "text": [
      "> <ipython-input-29-469cc786a009>(5)<module>()\n",
      "-> print(\"this is iteration \" + str(i))\n"
     ]
    }
   ],
   "source": [
    "import pdb\n",
    "\n",
    "for i in range(5):\n",
    "    pdb.set_trace()\n",
    "    print(\"this is iteration \" + str(i))"
   ]
  },
  {
   "cell_type": "markdown",
   "metadata": {},
   "source": []
  }
 ],
 "metadata": {
  "celltoolbar": "Slideshow",
  "kernelspec": {
   "display_name": "Python 3",
   "language": "python",
   "name": "python3"
  },
  "language_info": {
   "codemirror_mode": {
    "name": "ipython",
    "version": 2
   },
   "file_extension": ".py",
   "mimetype": "text/x-python",
   "name": "python",
   "nbconvert_exporter": "python",
   "pygments_lexer": "ipython2",
   "version": "2.7.16"
  }
 },
 "nbformat": 4,
 "nbformat_minor": 2
}
