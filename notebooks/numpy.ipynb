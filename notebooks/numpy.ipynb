{
 "cells": [
  {
   "cell_type": "code",
   "execution_count": 1,
   "metadata": {
    "slideshow": {
     "slide_type": "skip"
    }
   },
   "outputs": [
    {
     "data": {
      "text/html": [
       "<style>\n",
       "body {\n",
       "    font-family: \"Open Sans\";\n",
       "}\n",
       "</style>"
      ],
      "text/plain": [
       "<IPython.core.display.HTML object>"
      ]
     },
     "metadata": {},
     "output_type": "display_data"
    }
   ],
   "source": [
    "%%html\n",
    "<style>\n",
    "body {\n",
    "    font-family: \"Open Sans\";\n",
    "}\n",
    "</style>"
   ]
  },
  {
   "cell_type": "code",
   "execution_count": 2,
   "metadata": {
    "slideshow": {
     "slide_type": "skip"
    }
   },
   "outputs": [
    {
     "data": {
      "text/html": [
       "<style>.container { width:80% !important; }</style>"
      ],
      "text/plain": [
       "<IPython.core.display.HTML object>"
      ]
     },
     "metadata": {},
     "output_type": "display_data"
    }
   ],
   "source": [
    "from IPython.core.display import display, HTML\n",
    "display(HTML(\"<style>.container { width:80% !important; }</style>\"))"
   ]
  },
  {
   "cell_type": "markdown",
   "metadata": {
    "slideshow": {
     "slide_type": "slide"
    }
   },
   "source": [
    "# NumPy overview\n",
    "## *Vectors, Tensors and the Index Notation in NumPy*\n",
    "\n",
    "## Authors\n",
    "> Joseph Konan <jkonan@andrew.cmu.edu\\> <br>\n",
    "\n",
    "## Reference\n",
    "> Kelly, Piares A. \"[7.1 Vectors, Tensors and the Index Notation.](http://homepages.engineering.auckland.ac.nz/~pkel015/SolidMechanicsBooks/Part_II/07_3DElasticity/07_3DElasticity_01_3D_Index.pdf)\" In Solid Mechanics Part II: Engineering Solid Mechanics, 189-200. 2012.\n",
    "\n",
    "## Table of Contents\n",
    "1. Setting-up NumPy\n",
    "2. Vector Arrays\n",
    "3. Matrix Array Notation\n",
    "4. Tensor Arrays\n",
    "\n",
    "## 1. Setting-up NumPy\n",
    "### Installing NumPy\n",
    "To install NumPy using pip:\n",
    "\n",
    "> `python -m pip istall --user numpy scipy matplotlib ipython jupyter pandas sympy nose`\n",
    "\n",
    "Alternative methods can be found here:\n",
    "\n",
    "> https://scipy.org/install.html\n",
    "\n",
    "### Importing NumPy\n",
    "We import NumPy similar to how to import any other python library."
   ]
  },
  {
   "cell_type": "code",
   "execution_count": 36,
   "metadata": {
    "slideshow": {
     "slide_type": "slide"
    }
   },
   "outputs": [
    {
     "name": "stdout",
     "output_type": "stream",
     "text": [
      "1.16.4\n",
      "1.16.4\n"
     ]
    }
   ],
   "source": [
    "import numpy as np\n",
    "np.random.seed(0)\n",
    "\n",
    "print(np.version.version)\n",
    "print(np.__version__)"
   ]
  },
  {
   "cell_type": "markdown",
   "metadata": {
    "slideshow": {
     "slide_type": "slide"
    }
   },
   "source": [
    "## 2. Vector Arrays\n",
    "\n",
    "Consider the following three coordinate vector arrays\n",
    "\n",
    "$$ \\boldsymbol{e}_1 = \n",
    "\\left(\\begin{array}{cc} \n",
    "1 & 0 & 0\n",
    "\\end{array}\\right)\n",
    "$$\n",
    "\n",
    "$$ \\boldsymbol{e}_2 = \n",
    "\\left(\\begin{array}{cc} \n",
    "0 & 1 & 0\n",
    "\\end{array}\\right)\n",
    "$$\n",
    "\n",
    "$$ \\boldsymbol{e}_3 = \n",
    "\\left(\\begin{array}{cc} \n",
    "0 & 0 & 1\n",
    "\\end{array}\\right)\n",
    "$$\n",
    "\n",
    "These three vector arrays are considered orthogonal (90° angles) to eachother where none of the vectors is a scalar multiple of the others."
   ]
  },
  {
   "cell_type": "code",
   "execution_count": 37,
   "metadata": {
    "slideshow": {
     "slide_type": "slide"
    }
   },
   "outputs": [
    {
     "name": "stdout",
     "output_type": "stream",
     "text": [
      "('e1 =', array([1, 0, 0]))\n",
      "('e2 =', array([0, 1, 0]))\n",
      "('e3 =', array([0, 0, 1]))\n"
     ]
    }
   ],
   "source": [
    "e1 = np.array([1, 0, 0])\n",
    "e2 = np.array([0, 1, 0])\n",
    "e3 = np.array([0, 0, 1])\n",
    "\n",
    "print(\"e1 =\", e1)\n",
    "print(\"e2 =\", e2)\n",
    "print(\"e3 =\", e3)"
   ]
  },
  {
   "cell_type": "markdown",
   "metadata": {
    "slideshow": {
     "slide_type": "slide"
    }
   },
   "source": [
    "The dot product of the two vector arrays is defined as\n",
    "\n",
    "$$ \\boldsymbol{a} \\cdot \\boldsymbol{b} = |\\boldsymbol{a}| |\\boldsymbol{b}| \\cos \\theta $$"
   ]
  },
  {
   "cell_type": "markdown",
   "metadata": {
    "slideshow": {
     "slide_type": "fragment"
    }
   },
   "source": [
    "So, because orthogonal vector arrays have $\\theta = 90°$, we have  $\\cos 90° = 0$. Therefore,\n",
    "$$\\boldsymbol{e}_1 \\cdot \\boldsymbol{e}_2 = \\boldsymbol{e}_2 \\cdot \\boldsymbol{e}_3 = \\boldsymbol{e}_3 \\cdot \\boldsymbol{e}_1 = 0$$"
   ]
  },
  {
   "cell_type": "code",
   "execution_count": 38,
   "metadata": {
    "slideshow": {
     "slide_type": "fragment"
    }
   },
   "outputs": [
    {
     "name": "stdout",
     "output_type": "stream",
     "text": [
      "('e1\\xe2\\x8b\\x85e2 =', 0)\n",
      "('e2\\xe2\\x8b\\x85e3 =', 0)\n",
      "('e1\\xe2\\x8b\\x85e3 =', 0)\n"
     ]
    }
   ],
   "source": [
    "e1 = np.array([1, 0, 0])\n",
    "e2 = np.array([0, 1, 0])\n",
    "e3 = np.array([0, 0, 1])\n",
    "\n",
    "print(\"e1⋅e2 =\", np.dot(e1, e2))\n",
    "print(\"e2⋅e3 =\", np.dot(e2, e3))\n",
    "print(\"e1⋅e3 =\", np.dot(e1, e3))"
   ]
  },
  {
   "cell_type": "markdown",
   "metadata": {
    "slideshow": {
     "slide_type": "slide"
    }
   },
   "source": [
    "Vector arrays that are the same have $\\theta=0°$, so we have $\\cos0° = 1$. Therefore,"
   ]
  },
  {
   "cell_type": "markdown",
   "metadata": {
    "slideshow": {
     "slide_type": "fragment"
    }
   },
   "source": [
    "$$\\boldsymbol{e}_1 \\boldsymbol{e}_1 = \\boldsymbol{e}_2 \\boldsymbol{e}_2 = \\boldsymbol{e}_3 \\boldsymbol{e}_3 = 1$$"
   ]
  },
  {
   "cell_type": "code",
   "execution_count": 39,
   "metadata": {
    "slideshow": {
     "slide_type": "fragment"
    }
   },
   "outputs": [
    {
     "name": "stdout",
     "output_type": "stream",
     "text": [
      "('e1\\xe2\\x8b\\x85e2 =', 1)\n",
      "('e2\\xe2\\x8b\\x85e2 =', 1)\n",
      "('e1\\xe2\\x8b\\x85e3 =', 1)\n"
     ]
    }
   ],
   "source": [
    "print(\"e1⋅e2 =\", np.dot(e1, e1))\n",
    "print(\"e2⋅e2 =\", np.dot(e2, e2))\n",
    "print(\"e1⋅e3 =\", np.dot(e3, e3))"
   ]
  },
  {
   "cell_type": "markdown",
   "metadata": {
    "slideshow": {
     "slide_type": "slide"
    }
   },
   "source": [
    "We often look at scalar multiples of the coordinate vector arrays. For example, the product of scalar $a_1 = 3$ and coordinate vector array $\\boldsymbol{e}_1$ is\n",
    "$$\n",
    "a_1 \\boldsymbol{e}_1 = 3 \\left(\\begin{array}{cc} \n",
    "1 & 0 & 0\n",
    "\\end{array}\\right)\n",
    "=\n",
    "\\left(\\begin{array}{cc} \n",
    "3 & 0 & 0\n",
    "\\end{array}\\right)\n",
    "$$"
   ]
  },
  {
   "cell_type": "code",
   "execution_count": 40,
   "metadata": {
    "slideshow": {
     "slide_type": "fragment"
    }
   },
   "outputs": [
    {
     "name": "stdout",
     "output_type": "stream",
     "text": [
      "('a1*e1 =', array([3, 0, 0]))\n"
     ]
    }
   ],
   "source": [
    "a1 = 3\n",
    "e1 = np.array([1, 0, 0])\n",
    "\n",
    "print(\"a1*e1 =\", a1*e1)"
   ]
  },
  {
   "cell_type": "markdown",
   "metadata": {
    "slideshow": {
     "slide_type": "slide"
    }
   },
   "source": [
    "Consider $a_1 = 3$, $a_2 = 1$, and $a_3 = 4$\n",
    "\n",
    "$$\n",
    "\\begin{aligned}\n",
    "\\boldsymbol{a} \n",
    "&= a_1 \\boldsymbol{e}_1 + a_2 \\boldsymbol{e}_2 + a_3 \\boldsymbol{e}_3 \\\\\n",
    "&= 3 \\left(\\begin{array}{cc} \n",
    "0 & 0 & 1\n",
    "\\end{array}\\right) + \n",
    "1 \\left(\\begin{array}{cc} \n",
    "1 & 0 & 0\n",
    "\\end{array}\\right) + \n",
    "4 \\left(\\begin{array}{cc} \n",
    "0 & 1 & 0\n",
    "\\end{array}\\right) \\\\\n",
    "&= \\left(\\begin{array}{cc} \n",
    "3 & 0 & 0\n",
    "\\end{array}\\right) + \n",
    "\\left(\\begin{array}{cc} \n",
    "0 & 1 & 0\n",
    "\\end{array}\\right) + \n",
    "\\left(\\begin{array}{cc} \n",
    "0 & 0 & 4\n",
    "\\end{array}\\right) \\\\\n",
    "&= \\left(\\begin{array}{cc} \n",
    "3 & 1 & 4\n",
    "\\end{array}\\right)\n",
    "\\end{aligned}\n",
    "$$"
   ]
  },
  {
   "cell_type": "code",
   "execution_count": 41,
   "metadata": {
    "slideshow": {
     "slide_type": "fragment"
    }
   },
   "outputs": [
    {
     "name": "stdout",
     "output_type": "stream",
     "text": [
      "('a = a1*e1 + a2*e2 + a3*e3 =', array([3, 1, 4]))\n"
     ]
    }
   ],
   "source": [
    "a1 = 3\n",
    "a2 = 1\n",
    "a3 = 4\n",
    "\n",
    "a = a1*e1 + a2*e2 + a3*e3\n",
    "\n",
    "print(\"a = a1*e1 + a2*e2 + a3*e3 =\", a)"
   ]
  },
  {
   "cell_type": "markdown",
   "metadata": {
    "slideshow": {
     "slide_type": "slide"
    }
   },
   "source": [
    "We can also write the sum of scaled coordinates in summation notation:\n",
    "$$ \\boldsymbol{a} = a_1 \\boldsymbol{e}_1 + a_2 \\boldsymbol{e}_2 + a_3 \\boldsymbol{e}_3 = \\sum_{i=1}^{3}a_i \\boldsymbol{e}_i $$"
   ]
  },
  {
   "cell_type": "code",
   "execution_count": 42,
   "metadata": {
    "slideshow": {
     "slide_type": "fragment"
    }
   },
   "outputs": [
    {
     "name": "stdout",
     "output_type": "stream",
     "text": [
      "('sum of {i=1} to {3} of {ai ei} =', array([3., 1., 4.]))\n"
     ]
    }
   ],
   "source": [
    "components = [a1, a2, a3]\n",
    "vectors = [e1, e2, e3]\n",
    "\n",
    "a = np.zeros(3)\n",
    "for i in range(len(components)):\n",
    "    a += components[i]*vectors[i]\n",
    "\n",
    "print(\"sum of {i=1} to {3} of {ai ei} =\", a)"
   ]
  },
  {
   "cell_type": "code",
   "execution_count": 43,
   "metadata": {
    "slideshow": {
     "slide_type": "fragment"
    }
   },
   "outputs": [
    {
     "name": "stdout",
     "output_type": "stream",
     "text": [
      "('sum of each {component} in {components} =', array([3., 1., 4.]))\n"
     ]
    }
   ],
   "source": [
    "a = np.zeros(3)\n",
    "for component, vector in zip(components, vectors):\n",
    "    a += component*vector\n",
    "    \n",
    "print(\"sum of each {component} in {components} =\", a)"
   ]
  },
  {
   "cell_type": "markdown",
   "metadata": {
    "slideshow": {
     "slide_type": "slide"
    }
   },
   "source": [
    "If we are looking at the dot product for more general vector arrays, we can use what we saw so far. The result should be familiar:\n",
    "\n",
    "$$\n",
    "\\begin{align}\n",
    "\\boldsymbol{u} ⋅ \\boldsymbol{v} & = \n",
    "(u_1 \\boldsymbol{e}_1 + u_2 \\boldsymbol{e}_2 + u_3 \\boldsymbol{e}_3)⋅(v_1 \\boldsymbol{e}_1 + v_2 \\boldsymbol{e}_2 + v_3 \\boldsymbol{e}_3)\n",
    "\\\\\\\\ & = \n",
    "u_1v_1( \\boldsymbol{e}_1 \\boldsymbol{e}_1) + u_1v_2( \\boldsymbol{e}_1 \\boldsymbol{e}_2) + u_1v_3( \\boldsymbol{e}_1 \\boldsymbol{e}_3)\n",
    "\\\\\\\\ & \\quad+\n",
    "u_2v_1( \\boldsymbol{e}_2 \\boldsymbol{e}_1) + u_2v_2( \\boldsymbol{e}_2 \\boldsymbol{e}_2) + u_2v_3( \\boldsymbol{e}_2 \\boldsymbol{e}_3)\n",
    "\\\\\\\\ & \\quad+\n",
    "u_3v_1( \\boldsymbol{e}_3 \\boldsymbol{e}_1) + u_3v_2( \\boldsymbol{e}_3 \\boldsymbol{e}_2) + u_3v_3( \\boldsymbol{e}_3 \\boldsymbol{e}_3)\n",
    "\\\\\\\\ & =\n",
    "u_1v_1 + u_2v_2 + u_3v_3\n",
    "\\end{align}\\\\\n",
    "$$\n",
    "\n",
    "Consider \n",
    "$u = \\left(\\begin{array}{cc} \n",
    "3 & 1 & 4\n",
    "\\end{array}\\right)$\n",
    ", and \n",
    "$v = \\left(\\begin{array}{cc} \n",
    "1 & 5 & 9\n",
    "\\end{array}\\right)$, then:\n",
    "\n",
    "$$\n",
    "\\begin{aligned}\n",
    "\\boldsymbol{u} \\cdot \\boldsymbol{v}\n",
    "&= u_1 v_1 + u_2 v_2 + u_3 v_3 \\\\\n",
    "&= (3) (1) + (1) (5) + (4) (9) \\\\\n",
    "&= 44\n",
    "\\end{aligned}\n",
    "$$"
   ]
  },
  {
   "cell_type": "code",
   "execution_count": 44,
   "metadata": {
    "slideshow": {
     "slide_type": "slide"
    }
   },
   "outputs": [
    {
     "name": "stdout",
     "output_type": "stream",
     "text": [
      "44\n"
     ]
    }
   ],
   "source": [
    "u_components = [3, 1, 4]\n",
    "v_components = [1, 5, 9]\n",
    "\n",
    "u = u_components[0]*e1 + u_components[1]*e2 + u_components[2]*e3\n",
    "v = v_components[0]*e1 + v_components[1]*e2 + v_components[2]*e3\n",
    "\n",
    "result = np.dot(u, v)\n",
    "print(result)"
   ]
  },
  {
   "cell_type": "markdown",
   "metadata": {
    "slideshow": {
     "slide_type": "slide"
    }
   },
   "source": [
    "$$\\boldsymbol{u}⋅\\boldsymbol{v}=\\sum_{i=1}^{3}\\sum_{j=1}^{3}u_iv_j(e_ie_j)$$"
   ]
  },
  {
   "cell_type": "code",
   "execution_count": 45,
   "metadata": {
    "slideshow": {
     "slide_type": "slide"
    }
   },
   "outputs": [
    {
     "name": "stdout",
     "output_type": "stream",
     "text": [
      "44\n"
     ]
    }
   ],
   "source": [
    "e = [e1, e2, e3]\n",
    "\n",
    "# Another way to write the dot product using for loops\n",
    "result = 0\n",
    "for i in range(len(e)):\n",
    "    for j in range(len(e)): \n",
    "        result += u_components[i]*v_components[j]*(np.dot(e[i],e[j]))\n",
    "print(result)"
   ]
  },
  {
   "cell_type": "markdown",
   "metadata": {
    "slideshow": {
     "slide_type": "slide"
    }
   },
   "source": [
    "We can also directly declare these vector arrays:"
   ]
  },
  {
   "cell_type": "code",
   "execution_count": 46,
   "metadata": {
    "slideshow": {
     "slide_type": "fragment"
    }
   },
   "outputs": [
    {
     "name": "stdout",
     "output_type": "stream",
     "text": [
      "44\n"
     ]
    }
   ],
   "source": [
    "u = np.array(u_components)\n",
    "v = np.array(v_components)\n",
    "\n",
    "result = u[0]*v[0] + u[1]*v[1] + u[2]*v[2]\n",
    "print(result)"
   ]
  },
  {
   "cell_type": "markdown",
   "metadata": {
    "slideshow": {
     "slide_type": "slide"
    }
   },
   "source": [
    "Since we only use the indicies at unity, we can simplify the for loop:\n",
    "$$\\boldsymbol{u}⋅\\boldsymbol{v}=\\sum_{i=1}^{3}u_iv_i$$"
   ]
  },
  {
   "cell_type": "code",
   "execution_count": 47,
   "metadata": {
    "slideshow": {
     "slide_type": "fragment"
    }
   },
   "outputs": [
    {
     "name": "stdout",
     "output_type": "stream",
     "text": [
      "44\n"
     ]
    }
   ],
   "source": [
    "result = 0\n",
    "for i in range(len(u)):\n",
    "    result += u[i]*v[i]\n",
    "print(result)"
   ]
  },
  {
   "cell_type": "markdown",
   "metadata": {
    "slideshow": {
     "slide_type": "slide"
    }
   },
   "source": [
    "And this is all equivalent to the vectorization:"
   ]
  },
  {
   "cell_type": "code",
   "execution_count": 48,
   "metadata": {
    "slideshow": {
     "slide_type": "fragment"
    }
   },
   "outputs": [
    {
     "name": "stdout",
     "output_type": "stream",
     "text": [
      "44\n"
     ]
    }
   ],
   "source": [
    "result = np.dot(u, v)\n",
    "print(result)"
   ]
  },
  {
   "cell_type": "markdown",
   "metadata": {
    "slideshow": {
     "slide_type": "slide"
    }
   },
   "source": [
    "A more formal way of writing when indicies are the same yielding unity is with Kronecker delta, which is defined as:\n",
    "$$\n",
    "\\delta_{ij}=   \\left\\{\n",
    "\\begin{array}{ll}\n",
    "      0, & i \\neq j \\\\\n",
    "      1, & i = j \\\\\n",
    "\\end{array} \n",
    "\\right.\n",
    "$$\n",
    "\n",
    "In the code we write the conditional, simply as:"
   ]
  },
  {
   "cell_type": "code",
   "execution_count": 49,
   "metadata": {
    "slideshow": {
     "slide_type": "fragment"
    }
   },
   "outputs": [
    {
     "name": "stdout",
     "output_type": "stream",
     "text": [
      "1\n",
      "0\n"
     ]
    }
   ],
   "source": [
    "def kron(i,j):\n",
    "    if i == j:\n",
    "        return 1\n",
    "    else:\n",
    "        return 0\n",
    "    \n",
    "print(kron(1, 1))\n",
    "print(kron(1, 2))"
   ]
  },
  {
   "cell_type": "markdown",
   "metadata": {
    "slideshow": {
     "slide_type": "slide"
    }
   },
   "source": [
    "Which is the same as looking at the dot product of coordinate vector arrays with respect to their index.\n",
    "$$ \\boldsymbol{e}_i⋅\\boldsymbol{e}_j=\\delta_{ij} $$\n",
    "And just to confirm, we can see the reult is the same for all cases in our example:"
   ]
  },
  {
   "cell_type": "code",
   "execution_count": 50,
   "metadata": {
    "slideshow": {
     "slide_type": "fragment"
    }
   },
   "outputs": [
    {
     "name": "stdout",
     "output_type": "stream",
     "text": [
      "(1, '=', 1)\n",
      "(0, '=', 0)\n",
      "(0, '=', 0)\n",
      "(0, '=', 0)\n",
      "(1, '=', 1)\n",
      "(0, '=', 0)\n",
      "(0, '=', 0)\n",
      "(0, '=', 0)\n",
      "(1, '=', 1)\n"
     ]
    }
   ],
   "source": [
    "e = [e1, e2, e3]\n",
    "for i in range(len(e)):\n",
    "    for j in range(len(e)):\n",
    "        print(np.dot(e[i],e[j]), \"=\", kron(i, j))"
   ]
  },
  {
   "cell_type": "markdown",
   "metadata": {
    "slideshow": {
     "slide_type": "slide"
    }
   },
   "source": [
    "## 3. Matrix Array Notation"
   ]
  },
  {
   "cell_type": "markdown",
   "metadata": {
    "slideshow": {
     "slide_type": "slide"
    }
   },
   "source": [
    "Here is a $3 \\times 1$ matrix array:\n",
    "$$\n",
    "\\boldsymbol{u} =\n",
    "\\left(\\begin{array}{cc} \n",
    "u_1\\\\\n",
    "u_2\\\\\n",
    "u_3\n",
    "\\end{array}\\right)\n",
    "\\Rightarrow\n",
    "\\boldsymbol{u}^T =\n",
    "\\left(\\begin{array}{cc} \n",
    "u_1 &\n",
    "u_2 &\n",
    "u_3\n",
    "\\end{array}\\right)\n",
    "$$ "
   ]
  },
  {
   "cell_type": "code",
   "execution_count": 51,
   "metadata": {
    "slideshow": {
     "slide_type": "fragment"
    }
   },
   "outputs": [
    {
     "name": "stdout",
     "output_type": "stream",
     "text": [
      "('u =\\n', array([[0.5488135 ],\n",
      "       [0.71518937],\n",
      "       [0.60276338]]))\n",
      "('u^T =\\n', array([[0.5488135 , 0.71518937, 0.60276338]]))\n"
     ]
    }
   ],
   "source": [
    "# Create a random 3 x 1 matrix array from a uniform distribution from 0 to 1\n",
    "u = np.random.random((3,1))\n",
    "print(\"u =\\n\", u)\n",
    "print(\"u^T =\\n\", u.T)"
   ]
  },
  {
   "cell_type": "markdown",
   "metadata": {
    "slideshow": {
     "slide_type": "slide"
    }
   },
   "source": [
    "$$\n",
    "\\boldsymbol{v} = \n",
    "\\left(\\begin{array}{cc} \n",
    "v_1\\\\\n",
    "v_2\\\\\n",
    "v_3\n",
    "\\end{array}\\right)\n",
    "\\Rightarrow\n",
    "\\boldsymbol{v}^T = \n",
    "\\left(\\begin{array}{cc} \n",
    "v_1 & v_2 & v_3\n",
    "\\end{array}\\right)\n",
    "$$"
   ]
  },
  {
   "cell_type": "code",
   "execution_count": 52,
   "metadata": {
    "slideshow": {
     "slide_type": "fragment"
    }
   },
   "outputs": [
    {
     "name": "stdout",
     "output_type": "stream",
     "text": [
      "('v =\\n', array([[0.54488318],\n",
      "       [0.4236548 ],\n",
      "       [0.64589411]]))\n",
      "('v^T =\\n', array([[0.54488318, 0.4236548 , 0.64589411]]))\n"
     ]
    }
   ],
   "source": [
    "# Create a random 3 x 1 matrix array from a uniform distribution from 0 to 1\n",
    "v = np.random.random((3,1))\n",
    "\n",
    "# Transposing it yields a 1 x 3 matrix array\n",
    "print(\"v =\\n\", v)\n",
    "print(\"v^T =\\n\", v.T)"
   ]
  },
  {
   "cell_type": "markdown",
   "metadata": {
    "slideshow": {
     "slide_type": "slide"
    }
   },
   "source": [
    "An example of matrix multiplication:\n",
    "\n",
    "$$\n",
    "\\boldsymbol{u}^T\\boldsymbol{v} =\n",
    "\\left(\\begin{array}{cc} \n",
    "u_1 & u_2 & u_3\n",
    "\\end{array}\\right)\n",
    "\\left(\\begin{array}{cc} \n",
    "v_1 \\\\ v_2 \\\\ v_3\n",
    "\\end{array}\\right)\n",
    "= \\left(\\begin{array}{cc} \n",
    "u_1 v_1 + u_2 v_2 + u_3 v_3\n",
    "\\end{array}\\right)\n",
    "$$"
   ]
  },
  {
   "cell_type": "code",
   "execution_count": 53,
   "metadata": {
    "slideshow": {
     "slide_type": "fragment"
    }
   },
   "outputs": [
    {
     "name": "stdout",
     "output_type": "stream",
     "text": [
      "('u^T\\xe2\\x8b\\x85v =\\n', array([[0.99135397]]))\n"
     ]
    }
   ],
   "source": [
    "result = np.matmul(u.T, v)\n",
    "print(\"u^T⋅v =\\n\", result)"
   ]
  },
  {
   "cell_type": "markdown",
   "metadata": {
    "slideshow": {
     "slide_type": "slide"
    }
   },
   "source": [
    "The $3 \\times 3$ identity matrix array:\n",
    "\n",
    "$$\\boldsymbol{I} = \n",
    "\\left(\\begin{array}{cc} \n",
    "1 & 0 & 0\\\\\n",
    "0 & 1 & 0\\\\\n",
    "0 & 0 & 1\n",
    "\\end{array}\\right)\n",
    "$$ "
   ]
  },
  {
   "cell_type": "code",
   "execution_count": 54,
   "metadata": {
    "slideshow": {
     "slide_type": "fragment"
    }
   },
   "outputs": [
    {
     "name": "stdout",
     "output_type": "stream",
     "text": [
      "('I =\\n', array([[1., 0., 0.],\n",
      "       [0., 1., 0.],\n",
      "       [0., 0., 1.]]))\n"
     ]
    }
   ],
   "source": [
    "I = np.eye(3)\n",
    "\n",
    "print(\"I =\\n\", I)"
   ]
  },
  {
   "cell_type": "markdown",
   "metadata": {
    "slideshow": {
     "slide_type": "slide"
    }
   },
   "source": [
    "$$\\delta_{ij}u_j=u_i$$\n",
    "$$ \\boldsymbol{I}\\boldsymbol{u} = \\boldsymbol{u} $$\n",
    "$$\n",
    "\\left(\\begin{array}{cc} \n",
    "1 & 0 & 0\\\\\n",
    "0 & 1 & 0\\\\\n",
    "0 & 0 & 1\n",
    "\\end{array}\\right)\n",
    "\\left(\\begin{array}{cc} \n",
    "u_1\\\\\n",
    "u_2\\\\\n",
    "u_3\n",
    "\\end{array}\\right)\n",
    "=\n",
    "\\left(\\begin{array}{cc} \n",
    "u_1\\\\\n",
    "u_2\\\\\n",
    "u_3\n",
    "\\end{array}\\right)\n",
    "$$"
   ]
  },
  {
   "cell_type": "code",
   "execution_count": 55,
   "metadata": {
    "slideshow": {
     "slide_type": "fragment"
    }
   },
   "outputs": [
    {
     "name": "stdout",
     "output_type": "stream",
     "text": [
      "('I =\\n', array([[1., 0., 0.],\n",
      "       [0., 1., 0.],\n",
      "       [0., 0., 1.]]))\n",
      "('u =\\n', array([[0.43758721],\n",
      "       [0.891773  ],\n",
      "       [0.96366276]]))\n",
      "('I\\xe2\\x8b\\x85u =\\n', array([[0.43758721],\n",
      "       [0.891773  ],\n",
      "       [0.96366276]]))\n"
     ]
    }
   ],
   "source": [
    "u = np.random.random((3, 1))\n",
    "result = np.dot(I, u)\n",
    "\n",
    "print(\"I =\\n\", I)\n",
    "\n",
    "print(\"u =\\n\", u)\n",
    "\n",
    "print(\"I⋅u =\\n\", result)"
   ]
  },
  {
   "cell_type": "markdown",
   "metadata": {
    "slideshow": {
     "slide_type": "slide"
    }
   },
   "source": [
    "Here is an example of matrix array multiplication between a $3 \\times 1$ matrix array and a $1 \\times 3$ matrix array:\n",
    "$$\n",
    "\\boldsymbol{u} \\boldsymbol{v}^T=\n",
    "\\left(\\begin{array}{cc} \n",
    "u_1 \\\\\n",
    "u_2 \\\\\n",
    "u_3\n",
    "\\end{array}\\right)\n",
    "\\left(\\begin{array}{cc} \n",
    "v_1 & v_2 & v_3\n",
    "\\end{array}\\right)\n",
    "=\n",
    "\\left(\\begin{array}{cc} \n",
    "u_1v_1 & u_1v_2 & u_1v_3\\\\\n",
    "u_2v_1 & u_2v_2 & u_2v_3\\\\\n",
    "u_3v_1 & u_3v_2 & u_3v_3\n",
    "\\end{array}\\right)\n",
    "$$ "
   ]
  },
  {
   "cell_type": "code",
   "execution_count": 56,
   "metadata": {
    "slideshow": {
     "slide_type": "fragment"
    }
   },
   "outputs": [
    {
     "name": "stdout",
     "output_type": "stream",
     "text": [
      "('u v^T =\\n', array([[ 4,  5,  6],\n",
      "       [ 8, 10, 12],\n",
      "       [12, 15, 18]]))\n"
     ]
    }
   ],
   "source": [
    "u = np.array([[1, 2, 3]])\n",
    "v = np.array([[4, 5, 6]])\n",
    "\n",
    "result = np.matmul(u.T, v)\n",
    "\n",
    "print(\"u v^T =\\n\", result)"
   ]
  },
  {
   "cell_type": "markdown",
   "metadata": {
    "slideshow": {
     "slide_type": "slide"
    }
   },
   "source": [
    "$$\n",
    "\\begin{aligned}\n",
    "u \\otimes v \n",
    "&=  \n",
    "\\left(\\begin{array}{cc} \n",
    "u_1\n",
    "\\left(\\begin{array}{cc} \n",
    "v_1 & v_2 & v_3\n",
    "\\end{array}\\right) \n",
    "\\\\\n",
    "u_2\n",
    "\\left(\\begin{array}{cc} \n",
    "v_1 & v_2 & v_3\n",
    "\\end{array}\\right) \n",
    "\\\\\n",
    "u_3\n",
    "\\left(\\begin{array}{cc} \n",
    "v_1 & v_2 & v_3\n",
    "\\end{array}\\right)\n",
    "\\end{array}\\right) \\\\\n",
    "&=  \n",
    "\\left(\\begin{array}{cc} \n",
    "\\left(\\begin{array}{cc} \n",
    "u_1v_1 & u_1v_2 & u_1v_3\n",
    "\\end{array}\\right) \n",
    "\\\\\n",
    "\\left(\\begin{array}{cc} \n",
    "u_2v_1 & u_2v_2 & u_2v_3\n",
    "\\end{array}\\right) \n",
    "\\\\\n",
    "\\left(\\begin{array}{cc} \n",
    "u_3v_1 & u_3v_2 & u_3v_3\n",
    "\\end{array}\\right)\n",
    "\\end{array}\\right) \\\\\n",
    "&=\n",
    "\\left(\\begin{array}{cc} \n",
    "u_1v_1 & u_1v_2 & u_1v_3\\\\\n",
    "u_2v_1 & u_2v_2 & u_2v_3\\\\\n",
    "u_3v_1 & u_3v_2 & u_3v_3\n",
    "\\end{array}\\right)\n",
    "\\end{aligned}\n",
    "$$"
   ]
  },
  {
   "cell_type": "code",
   "execution_count": 57,
   "metadata": {
    "slideshow": {
     "slide_type": "slide"
    }
   },
   "outputs": [
    {
     "name": "stdout",
     "output_type": "stream",
     "text": [
      "('u\\xe2\\xa8\\x82v =\\n', array([[ 4,  5,  6],\n",
      "       [ 8, 10, 12],\n",
      "       [12, 15, 18]]))\n"
     ]
    }
   ],
   "source": [
    "# Squeezing the matrix (2D) arrays makes them vector (1D) arrays\n",
    "u = u.squeeze()\n",
    "v = v.squeeze()\n",
    "\n",
    "result = np.tensordot(u, v, axes=0)\n",
    "\n",
    "print(\"u⨂v =\\n\", result)"
   ]
  },
  {
   "cell_type": "markdown",
   "metadata": {
    "slideshow": {
     "slide_type": "slide"
    }
   },
   "source": [
    "Here is an example of matrix array multiplication between a $3 \\times 3$ matrix array and a $3 \\times 1$ vector arrays:\n",
    "$$\n",
    "\\boldsymbol{Q} \\boldsymbol{u}\n",
    "=\n",
    "\\left(\\begin{array}{cc} \n",
    "Q_{11} & Q_{12} & Q_{13}\\\\\n",
    "Q_{21} & Q_{22} & Q_{23}\\\\\n",
    "Q_{31} & Q_{32} & Q_{33}\n",
    "\\end{array}\\right)\n",
    "\\left(\\begin{array}{cc} \n",
    "u_{1}\\\\\n",
    "u_{2}\\\\\n",
    "u_{3}\n",
    "\\end{array}\\right)\n",
    "= \n",
    "\\left(\\begin{array}{cc} \n",
    "Q_{11} u_{1} + Q_{12} u_{2} + Q_{13} u_{3}\\\\\n",
    "Q_{21} u_{1} + Q_{22} u_{2} + Q_{23} u_{3}\\\\\n",
    "Q_{31} u_{1} + Q_{32} u_{2} + Q_{33} u_{3}\n",
    "\\end{array}\\right)\n",
    "$$ \n",
    "\n",
    "This is NOT equivalent to the tensor array product of a matrix array and a vector array. More on this later."
   ]
  },
  {
   "cell_type": "code",
   "execution_count": 58,
   "metadata": {
    "slideshow": {
     "slide_type": "slide"
    }
   },
   "outputs": [
    {
     "name": "stdout",
     "output_type": "stream",
     "text": [
      "('Q =\\n', array([[1, 6, 7],\n",
      "       [7, 8, 1],\n",
      "       [5, 8, 4]]))\n",
      "('u =\\n', array([[1],\n",
      "       [2],\n",
      "       [3]]))\n",
      "('Q\\xe2\\x8b\\x85u =\\n', array([[34],\n",
      "       [26],\n",
      "       [33]]))\n"
     ]
    }
   ],
   "source": [
    "Q = np.random.randint(9, size=(3,3))\n",
    "u = np.array([[1], \n",
    "              [2], \n",
    "              [3]])\n",
    "\n",
    "result = np.matmul(Q, u)\n",
    "\n",
    "print(\"Q =\\n\", Q)\n",
    "\n",
    "print(\"u =\\n\", u)\n",
    "\n",
    "print(\"Q⋅u =\\n\", result)"
   ]
  },
  {
   "cell_type": "markdown",
   "metadata": {
    "slideshow": {
     "slide_type": "slide"
    }
   },
   "source": [
    "$$(\\boldsymbol{A}\\boldsymbol{B})^T = \\boldsymbol{B}^T\\boldsymbol{A}^T$$"
   ]
  },
  {
   "cell_type": "code",
   "execution_count": 59,
   "metadata": {
    "slideshow": {
     "slide_type": "fragment"
    }
   },
   "outputs": [
    {
     "name": "stdout",
     "output_type": "stream",
     "text": [
      "('A =\\n', array([[3, 0, 3],\n",
      "       [5, 0, 2],\n",
      "       [3, 8, 1]]))\n",
      "('B =\\n', array([[3, 3, 3],\n",
      "       [7, 0, 1],\n",
      "       [0, 4, 7]]))\n",
      "('(A\\xe2\\x8b\\x85B)^T =\\n', array([[ 9, 15, 65],\n",
      "       [21, 23, 13],\n",
      "       [30, 29, 24]]))\n"
     ]
    }
   ],
   "source": [
    "A = np.random.randint(9, size=(3,3))\n",
    "B = np.random.randint(9, size=(3,3))\n",
    "\n",
    "result = np.dot(A, B).T\n",
    "\n",
    "print(\"A =\\n\", A)\n",
    "\n",
    "print(\"B =\\n\", B)\n",
    "\n",
    "print(\"(A⋅B)^T =\\n\", result)"
   ]
  },
  {
   "cell_type": "code",
   "execution_count": 60,
   "metadata": {
    "slideshow": {
     "slide_type": "slide"
    }
   },
   "outputs": [
    {
     "name": "stdout",
     "output_type": "stream",
     "text": [
      "('A^T =\\n', array([[3, 5, 3],\n",
      "       [0, 0, 8],\n",
      "       [3, 2, 1]]))\n",
      "('B^T =\\n', array([[3, 7, 0],\n",
      "       [3, 0, 4],\n",
      "       [3, 1, 7]]))\n",
      "('A^T\\xe2\\x8b\\x85B^T =\\n', array([[ 9, 15, 65],\n",
      "       [21, 23, 13],\n",
      "       [30, 29, 24]]))\n"
     ]
    }
   ],
   "source": [
    "result = np.dot(B.T, A.T)\n",
    "\n",
    "print(\"A^T =\\n\", A.T)\n",
    "\n",
    "print(\"B^T =\\n\", B.T)\n",
    "\n",
    "print(\"A^T⋅B^T =\\n\", result)"
   ]
  },
  {
   "cell_type": "markdown",
   "metadata": {
    "slideshow": {
     "slide_type": "slide"
    }
   },
   "source": [
    "## 4. Tensor Arrays"
   ]
  },
  {
   "cell_type": "markdown",
   "metadata": {
    "slideshow": {
     "slide_type": "fragment"
    }
   },
   "source": [
    "Consider this vector arrays with 3 components:\n",
    "\n",
    "$$\n",
    "\\left(\\begin{array}{cc} \n",
    "a_{0} \\\\ a_{1} \\\\ a_{2}\n",
    "\\end{array}\\right)\n",
    "$$ "
   ]
  },
  {
   "cell_type": "markdown",
   "metadata": {
    "slideshow": {
     "slide_type": "fragment"
    }
   },
   "source": [
    "And consider this $4 \\times 4$ matrix array:\n",
    "$$\n",
    "\\left(\\begin{array}{cc} \n",
    "b_{00} & b_{01} & b_{02} & b_{03}\\\\\n",
    "b_{10} & b_{11} & b_{12} & b_{13}\\\\\n",
    "b_{20} & b_{21} & b_{22} & b_{23}\\\\\n",
    "b_{30} & b_{31} & b_{32} & b_{33}\n",
    "\\end{array}\\right)\n",
    "$$ "
   ]
  },
  {
   "cell_type": "markdown",
   "metadata": {
    "slideshow": {
     "slide_type": "slide"
    }
   },
   "source": [
    "Then the tensor array product of the vector arrays and the matrix array is calculated as follows:\n",
    "\n",
    "$\n",
    "\\left(\\begin{array}{cc} \n",
    "a_{0} \\\\ a_{1} \\\\ a_{2}\n",
    "\\end{array}\\right)\n",
    "\\otimes\n",
    "\\left(\\begin{array}{cc} \n",
    "b_{00} & b_{01} & b_{02} & b_{03}\\\\\n",
    "b_{10} & b_{11} & b_{12} & b_{13}\\\\\n",
    "b_{20} & b_{21} & b_{22} & b_{23}\\\\\n",
    "b_{30} & b_{31} & b_{32} & b_{33}\n",
    "\\end{array}\\right)\n",
    "$\n",
    "\n",
    "\n",
    "$\n",
    "\\begin{aligned}\n",
    "\\: \\: \\: \\: \\: \\: \\: \\: &=\n",
    "\\left(\\begin{array}{cc} \n",
    "a_{0}\n",
    "\\left(\\begin{array}{cc} \n",
    "b_{00} & b_{01} & b_{02} & b_{03}\\\\\n",
    "b_{10} & b_{11} & b_{12} & b_{13}\\\\\n",
    "b_{20} & b_{21} & b_{22} & b_{23}\\\\\n",
    "b_{30} & b_{31} & b_{32} & b_{33}\n",
    "\\end{array}\\right) \\\\\n",
    "a_{1}\n",
    "\\left(\\begin{array}{cc} \n",
    "b_{00} & b_{01} & b_{02} & b_{03}\\\\\n",
    "b_{10} & b_{11} & b_{12} & b_{13}\\\\\n",
    "b_{20} & b_{21} & b_{22} & b_{23}\\\\\n",
    "b_{30} & b_{31} & b_{32} & b_{33}\n",
    "\\end{array}\\right) \\\\\n",
    "a_{2}\n",
    "\\left(\\begin{array}{cc} \n",
    "b_{00} & b_{01} & b_{02} & b_{03}\\\\\n",
    "b_{10} & b_{11} & b_{12} & b_{13}\\\\\n",
    "b_{20} & b_{21} & b_{22} & b_{23}\\\\\n",
    "b_{30} & b_{31} & b_{32} & b_{33}\n",
    "\\end{array}\\right) \n",
    "\\end{array}\\right) \\\\ &=\n",
    "\\left(\\begin{array}{cc} \n",
    "a_{0}\n",
    "\\left(\\begin{array}{cc} \n",
    "b_{00} & b_{01} & b_{02} & b_{03}\\\\\n",
    "b_{10} & b_{11} & b_{12} & b_{13}\\\\\n",
    "b_{20} & b_{21} & b_{22} & b_{23}\\\\\n",
    "b_{30} & b_{31} & b_{32} & b_{33}\n",
    "\\end{array}\\right) ,\n",
    "a_{1}\n",
    "\\left(\\begin{array}{cc} \n",
    "b_{00} & b_{01} & b_{02} & b_{03}\\\\\n",
    "b_{10} & b_{11} & b_{12} & b_{13}\\\\\n",
    "b_{20} & b_{21} & b_{22} & b_{23}\\\\\n",
    "b_{30} & b_{31} & b_{32} & b_{33}\n",
    "\\end{array}\\right) ,\n",
    "a_{2}\n",
    "\\left(\\begin{array}{cc} \n",
    "b_{00} & b_{01} & b_{02} & b_{03}\\\\\n",
    "b_{10} & b_{11} & b_{12} & b_{13}\\\\\n",
    "b_{20} & b_{21} & b_{22} & b_{23}\\\\\n",
    "b_{30} & b_{31} & b_{32} & b_{33}\n",
    "\\end{array}\\right) \n",
    "\\end{array}\\right) \\\\\n",
    "&=\n",
    "\\left(\\begin{array}{cc} \n",
    "\\left(\\begin{array}{cc} \n",
    "a_{0}b_{00} & a_{0}b_{01} & a_{0}b_{02} & a_{0}b_{03}\\\\\n",
    "a_{0}b_{10} & a_{0}b_{11} & a_{0}b_{12} & a_{0}b_{13}\\\\\n",
    "a_{0}b_{20} & a_{0}b_{21} & a_{0}b_{22} & a_{0}b_{23}\\\\\n",
    "a_{0}b_{30} & a_{0}b_{31} & a_{0}b_{32} & a_{0}b_{33}\n",
    "\\end{array}\\right)\n",
    ",\n",
    "\\left(\\begin{array}{cc} \n",
    "a_{1}b_{00} & a_{1}b_{01} & a_{1}b_{02} & a_{1}b_{03}\\\\\n",
    "a_{1}b_{10} & a_{1}b_{11} & a_{1}b_{12} & a_{1}b_{13}\\\\\n",
    "a_{1}b_{20} & a_{1}b_{21} & a_{1}b_{22} & a_{1}b_{23}\\\\\n",
    "a_{1}b_{30} & a_{1}b_{31} & a_{1}b_{32} & a_{1}b_{33}\n",
    "\\end{array}\\right)\n",
    ",\n",
    "\\left(\\begin{array}{cc} \n",
    "a_{2}b_{00} & a_{2}b_{01} & a_{2}b_{02} & a_{2}b_{03}\\\\\n",
    "a_{2}b_{10} & a_{2}b_{11} & a_{2}b_{12} & a_{2}b_{13}\\\\\n",
    "a_{2}b_{20} & a_{2}b_{21} & a_{2}b_{22} & a_{2}b_{23}\\\\\n",
    "a_{2}b_{30} & a_{2}b_{31} & a_{2}b_{32} & a_{2}b_{33}\n",
    "\\end{array}\\right)\n",
    "\\end{array}\\right) \\\\\n",
    "&=\n",
    "\\left(\\begin{array}{cc} \n",
    "\\left(\\begin{array}{cc} \n",
    "\\tau_{000} & \\tau_{001} & \\tau_{002} & \\tau_{003}\\\\\n",
    "\\tau_{010} & \\tau_{011} & \\tau_{012} & \\tau_{013}\\\\\n",
    "\\tau_{020} & \\tau_{021} & \\tau_{022} & \\tau_{023}\\\\\n",
    "\\tau_{030} & \\tau_{031} & \\tau_{032} & \\tau_{033}\n",
    "\\end{array}\\right)\n",
    ",\n",
    "\\left(\\begin{array}{cc} \n",
    "\\tau_{100} & \\tau_{101} & \\tau_{102} & \\tau_{103}\\\\\n",
    "\\tau_{110} & \\tau_{111} & \\tau_{112} & \\tau_{113}\\\\\n",
    "\\tau_{120} & \\tau_{121} & \\tau_{122} & \\tau_{123}\\\\\n",
    "\\tau_{130} & \\tau_{131} & \\tau_{132} & \\tau_{133}\n",
    "\\end{array}\\right)\n",
    ",\n",
    "\\left(\\begin{array}{cc} \n",
    "\\tau_{200} & \\tau_{201} & \\tau_{202} & \\tau_{203}\\\\\n",
    "\\tau_{210} & \\tau_{211} & \\tau_{212} & \\tau_{213}\\\\\n",
    "\\tau_{220} & \\tau_{221} & \\tau_{222} & \\tau_{223}\\\\\n",
    "\\tau_{230} & \\tau_{231} & \\tau_{232} & \\tau_{233}\n",
    "\\end{array}\\right)\n",
    "\\end{array}\\right)\n",
    "\\end{aligned}\n",
    "$\n",
    "\n",
    "This tensor array could be described as a 3D matrix array."
   ]
  },
  {
   "cell_type": "code",
   "execution_count": 61,
   "metadata": {
    "slideshow": {
     "slide_type": "skip"
    }
   },
   "outputs": [
    {
     "name": "stdout",
     "output_type": "stream",
     "text": [
      "3d_array.png  tensor2.png  tensor4.png\ttensor6.png\r\n",
      "tensor1.png   tensor3.png  tensor5.png\ttensor7.png\r\n"
     ]
    }
   ],
   "source": [
    "!ls ../img"
   ]
  },
  {
   "cell_type": "markdown",
   "metadata": {
    "slideshow": {
     "slide_type": "slide"
    }
   },
   "source": [
    "<img src=\"../img/tensor1.png\" alt=\"Image of Rank 3 Tensor\" style=\"width: 500px;\"/>"
   ]
  },
  {
   "cell_type": "code",
   "execution_count": 62,
   "metadata": {
    "slideshow": {
     "slide_type": "slide"
    }
   },
   "outputs": [
    {
     "name": "stdout",
     "output_type": "stream",
     "text": [
      "('A = \\n', array([3, 2, 7]))\n",
      "('B = \\n', array([[2, 0, 0, 4],\n",
      "       [5, 5, 6, 8],\n",
      "       [4, 1, 4, 8],\n",
      "       [1, 1, 7, 3]]))\n",
      "('A\\xe2\\xa8\\x82B =\\n', array([[[ 6,  0,  0, 12],\n",
      "        [15, 15, 18, 24],\n",
      "        [12,  3, 12, 24],\n",
      "        [ 3,  3, 21,  9]],\n",
      "\n",
      "       [[ 4,  0,  0,  8],\n",
      "        [10, 10, 12, 16],\n",
      "        [ 8,  2,  8, 16],\n",
      "        [ 2,  2, 14,  6]],\n",
      "\n",
      "       [[14,  0,  0, 28],\n",
      "        [35, 35, 42, 56],\n",
      "        [28,  7, 28, 56],\n",
      "        [ 7,  7, 49, 21]]]))\n"
     ]
    }
   ],
   "source": [
    "A = np.random.randint(9, size=(3))\n",
    "B = np.random.randint(9, size=(4,4))\n",
    "\n",
    "print(\"A = \\n\", A)\n",
    "\n",
    "print(\"B = \\n\", B)\n",
    "\n",
    "print(\"A⨂B =\\n\", np.tensordot(A, B, axes=0))"
   ]
  },
  {
   "cell_type": "markdown",
   "metadata": {
    "slideshow": {
     "slide_type": "slide"
    }
   },
   "source": [
    "### Consider this list of matrices"
   ]
  },
  {
   "cell_type": "code",
   "execution_count": 63,
   "metadata": {
    "slideshow": {
     "slide_type": "fragment"
    }
   },
   "outputs": [
    {
     "name": "stdout",
     "output_type": "stream",
     "text": [
      "('A =\\n', array([array([[3, 1, 4, 1],\n",
      "       [5, 9, 2, 6],\n",
      "       [5, 3, 5, 8]]),\n",
      "       array([[9, 7, 9, 3],\n",
      "       [2, 3, 8, 4]]),\n",
      "       array([[3, 3, 8, 3],\n",
      "       [2, 7, 9, 5],\n",
      "       [0, 2, 8, 8],\n",
      "       [6, 2, 6, 4]])], dtype=object))\n"
     ]
    }
   ],
   "source": [
    "a1 = np.array([np.array([3, 1, 4, 1]), \n",
    "               np.array([5, 9, 2, 6]), \n",
    "               np.array([5, 3, 5, 8])])\n",
    "\n",
    "a2 = np.array([np.array([9, 7, 9, 3]),\n",
    "               np.array([2, 3, 8, 4])])\n",
    "\n",
    "a3 = np.array([np.array([3, 3, 8, 3]), \n",
    "               np.array([2, 7, 9, 5]),\n",
    "               np.array([0, 2, 8, 8]), \n",
    "               np.array([6, 2, 6, 4])])\n",
    "\n",
    "A = np.array([a1, a2, a3])\n",
    "\n",
    "print(\"A =\\n\", A.T)"
   ]
  },
  {
   "cell_type": "markdown",
   "metadata": {},
   "source": [
    "<img src=\"../img/tensor2.png\" alt=\"Image of Rank 3 Tensor\" style=\"width: 500px;\"/>"
   ]
  },
  {
   "cell_type": "markdown",
   "metadata": {
    "slideshow": {
     "slide_type": "slide"
    }
   },
   "source": [
    "### How to subset the first two elements to make a tensor array"
   ]
  },
  {
   "cell_type": "code",
   "execution_count": 64,
   "metadata": {
    "slideshow": {
     "slide_type": "fragment"
    }
   },
   "outputs": [
    {
     "name": "stdout",
     "output_type": "stream",
     "text": [
      "('A =\\n', array([array([[3, 1, 4, 1],\n",
      "       [5, 9, 2, 6],\n",
      "       [5, 3, 5, 8]]),\n",
      "       array([[9, 7, 9, 3],\n",
      "       [2, 3, 8, 4]]),\n",
      "       array([[3, 3, 8, 3],\n",
      "       [2, 7, 9, 5],\n",
      "       [0, 2, 8, 8],\n",
      "       [6, 2, 6, 4]])], dtype=object))\n",
      "('A1 =\\n', array([[[3, 1, 4, 1],\n",
      "        [5, 9, 2, 6]],\n",
      "\n",
      "       [[9, 7, 9, 3],\n",
      "        [2, 3, 8, 4]],\n",
      "\n",
      "       [[3, 3, 8, 3],\n",
      "        [2, 7, 9, 5]]]))\n"
     ]
    }
   ],
   "source": [
    "A1 = [record[:2] for record in A]\n",
    "A1 = np.array(A1)\n",
    "\n",
    "print(\"A =\\n\", A)\n",
    "\n",
    "print(\"A1 =\\n\", A1)"
   ]
  },
  {
   "cell_type": "markdown",
   "metadata": {},
   "source": [
    "<img src=\"../img/tensor3.png\" alt=\"Image of Rank 3 Tensor\" style=\"width: 500px;\"/>"
   ]
  },
  {
   "cell_type": "markdown",
   "metadata": {
    "slideshow": {
     "slide_type": "slide"
    }
   },
   "source": [
    "### How to subset the last two elements to make a tensor array"
   ]
  },
  {
   "cell_type": "code",
   "execution_count": 65,
   "metadata": {
    "slideshow": {
     "slide_type": "fragment"
    }
   },
   "outputs": [
    {
     "name": "stdout",
     "output_type": "stream",
     "text": [
      "('A =\\n', array([array([[3, 1, 4, 1],\n",
      "       [5, 9, 2, 6],\n",
      "       [5, 3, 5, 8]]),\n",
      "       array([[9, 7, 9, 3],\n",
      "       [2, 3, 8, 4]]),\n",
      "       array([[3, 3, 8, 3],\n",
      "       [2, 7, 9, 5],\n",
      "       [0, 2, 8, 8],\n",
      "       [6, 2, 6, 4]])], dtype=object))\n",
      "('A2 =\\n', array([[[5, 9, 2, 6],\n",
      "        [5, 3, 5, 8]],\n",
      "\n",
      "       [[9, 7, 9, 3],\n",
      "        [2, 3, 8, 4]],\n",
      "\n",
      "       [[0, 2, 8, 8],\n",
      "        [6, 2, 6, 4]]]))\n"
     ]
    }
   ],
   "source": [
    "A2 = [record[-2:] for record in A]\n",
    "A2 = np.array(A2)\n",
    "\n",
    "print(\"A =\\n\", A)\n",
    "\n",
    "print(\"A2 =\\n\", A2)"
   ]
  },
  {
   "cell_type": "markdown",
   "metadata": {},
   "source": [
    "<img src=\"../img/tensor4.png\" alt=\"Image of Rank 3 Tensor\" style=\"width: 500px;\"/>"
   ]
  },
  {
   "cell_type": "markdown",
   "metadata": {
    "slideshow": {
     "slide_type": "slide"
    }
   },
   "source": [
    "### How to pad at the bottom to make a tensor array"
   ]
  },
  {
   "cell_type": "code",
   "execution_count": 66,
   "metadata": {
    "slideshow": {
     "slide_type": "fragment"
    }
   },
   "outputs": [
    {
     "name": "stdout",
     "output_type": "stream",
     "text": [
      "('A =\\n', array([array([[3, 1, 4, 1],\n",
      "       [5, 9, 2, 6],\n",
      "       [5, 3, 5, 8]]),\n",
      "       array([[9, 7, 9, 3],\n",
      "       [2, 3, 8, 4]]),\n",
      "       array([[3, 3, 8, 3],\n",
      "       [2, 7, 9, 5],\n",
      "       [0, 2, 8, 8],\n",
      "       [6, 2, 6, 4]])], dtype=object))\n",
      "('A3 =\\n', array([[[3, 1, 4, 1],\n",
      "        [5, 9, 2, 6],\n",
      "        [5, 3, 5, 8],\n",
      "        [0, 0, 0, 0]],\n",
      "\n",
      "       [[9, 7, 9, 3],\n",
      "        [2, 3, 8, 4],\n",
      "        [0, 0, 0, 0],\n",
      "        [0, 0, 0, 0]],\n",
      "\n",
      "       [[3, 3, 8, 3],\n",
      "        [2, 7, 9, 5],\n",
      "        [0, 2, 8, 8],\n",
      "        [6, 2, 6, 4]]]))\n"
     ]
    }
   ],
   "source": [
    "pad_below1 = 4 - len(a1)\n",
    "pad_below2 = 4 - len(a2)\n",
    "pad_below3 = 4 - len(a3)\n",
    "\n",
    "pad_above = 0\n",
    "pad_left = 0\n",
    "par_right = 0\n",
    "\n",
    "n_add = [((pad_above, pad_below1), (pad_left, par_right)), \n",
    "         ((pad_above, pad_below2), (pad_left, par_right)), \n",
    "         ((pad_above, pad_below3), (pad_left, par_right))]\n",
    "\n",
    "A3 = [np.pad(A[i], pad_width = n_add[i], mode = 'constant', constant_values = 0) for i in range(3)]\n",
    "A3 = np.array(A3)\n",
    "\n",
    "print(\"A =\\n\", A)\n",
    "\n",
    "print(\"A3 =\\n\", A3)"
   ]
  },
  {
   "cell_type": "markdown",
   "metadata": {},
   "source": [
    "<img src=\"../img/tensor5.png\" alt=\"Image of Rank 3 Tensor\" style=\"width: 500px;\"/>"
   ]
  },
  {
   "cell_type": "markdown",
   "metadata": {
    "slideshow": {
     "slide_type": "slide"
    }
   },
   "source": [
    "### How to pad at the top to make a tensor array"
   ]
  },
  {
   "cell_type": "code",
   "execution_count": 67,
   "metadata": {
    "slideshow": {
     "slide_type": "fragment"
    }
   },
   "outputs": [
    {
     "name": "stdout",
     "output_type": "stream",
     "text": [
      "('A =\\n', array([array([[3, 1, 4, 1],\n",
      "       [5, 9, 2, 6],\n",
      "       [5, 3, 5, 8]]),\n",
      "       array([[9, 7, 9, 3],\n",
      "       [2, 3, 8, 4]]),\n",
      "       array([[3, 3, 8, 3],\n",
      "       [2, 7, 9, 5],\n",
      "       [0, 2, 8, 8],\n",
      "       [6, 2, 6, 4]])], dtype=object))\n",
      "('A4 =\\n', array([[[0, 0, 0, 0],\n",
      "        [3, 1, 4, 1],\n",
      "        [5, 9, 2, 6],\n",
      "        [5, 3, 5, 8]],\n",
      "\n",
      "       [[0, 0, 0, 0],\n",
      "        [0, 0, 0, 0],\n",
      "        [9, 7, 9, 3],\n",
      "        [2, 3, 8, 4]],\n",
      "\n",
      "       [[3, 3, 8, 3],\n",
      "        [2, 7, 9, 5],\n",
      "        [0, 2, 8, 8],\n",
      "        [6, 2, 6, 4]]]))\n"
     ]
    }
   ],
   "source": [
    "pad_above1 = 4 - len(a1)\n",
    "pad_above2 = 4 - len(a2)\n",
    "pad_above3 = 4 - len(a3)\n",
    "\n",
    "pad_below = 0\n",
    "pad_left = 0\n",
    "par_right = 0\n",
    "\n",
    "n_add = [((pad_above1, pad_below), (pad_left, par_right)), \n",
    "         ((pad_above2, pad_below), (pad_left, par_right)), \n",
    "         ((pad_above3, pad_below), (pad_left, par_right))]\n",
    "\n",
    "A4 = [np.pad(A[i], pad_width = n_add[i], mode = 'constant', constant_values = 0) for i in range(3)]\n",
    "A4 = np.array(A4)\n",
    "\n",
    "print(\"A =\\n\", A)\n",
    "\n",
    "print(\"A4 =\\n\", A4)"
   ]
  },
  {
   "cell_type": "markdown",
   "metadata": {},
   "source": [
    "<img src=\"../img/tensor6.png\" alt=\"Image of Rank 3 Tensor\" style=\"width: 500px;\"/>"
   ]
  },
  {
   "cell_type": "markdown",
   "metadata": {
    "slideshow": {
     "slide_type": "slide"
    }
   },
   "source": [
    "### How to vertically stack the 3D object to make a 2D matrix array"
   ]
  },
  {
   "cell_type": "code",
   "execution_count": 68,
   "metadata": {
    "slideshow": {
     "slide_type": "fragment"
    }
   },
   "outputs": [
    {
     "name": "stdout",
     "output_type": "stream",
     "text": [
      "('A =\\n', array([array([[3, 1, 4, 1],\n",
      "       [5, 9, 2, 6],\n",
      "       [5, 3, 5, 8]]),\n",
      "       array([[9, 7, 9, 3],\n",
      "       [2, 3, 8, 4]]),\n",
      "       array([[3, 3, 8, 3],\n",
      "       [2, 7, 9, 5],\n",
      "       [0, 2, 8, 8],\n",
      "       [6, 2, 6, 4]])], dtype=object))\n",
      "('A5 =\\n', array([[3, 1, 4, 1],\n",
      "       [5, 9, 2, 6],\n",
      "       [5, 3, 5, 8],\n",
      "       [9, 7, 9, 3],\n",
      "       [2, 3, 8, 4],\n",
      "       [3, 3, 8, 3],\n",
      "       [2, 7, 9, 5],\n",
      "       [0, 2, 8, 8],\n",
      "       [6, 2, 6, 4]]))\n"
     ]
    }
   ],
   "source": [
    "A5 = np.vstack(A)\n",
    "\n",
    "print(\"A =\\n\", A)\n",
    "\n",
    "print(\"A5 =\\n\", A5)"
   ]
  },
  {
   "cell_type": "markdown",
   "metadata": {},
   "source": [
    "<img src=\"../img/tensor7.png\" alt=\"Image of Rank 3 Tensor\" style=\"width: 300px;\"/>"
   ]
  }
 ],
 "metadata": {
  "celltoolbar": "Slideshow",
  "kernel_info": {
   "name": "python3"
  },
  "kernelspec": {
   "display_name": "Python 3",
   "language": "python",
   "name": "python3"
  },
  "language_info": {
   "codemirror_mode": {
    "name": "ipython",
    "version": 2
   },
   "file_extension": ".py",
   "mimetype": "text/x-python",
   "name": "python",
   "nbconvert_exporter": "python",
   "pygments_lexer": "ipython2",
   "version": "2.7.16"
  },
  "nteract": {
   "version": "0.14.4"
  }
 },
 "nbformat": 4,
 "nbformat_minor": 2
}
